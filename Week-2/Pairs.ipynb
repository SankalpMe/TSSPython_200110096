{
 "cells": [
  {
   "cell_type": "markdown",
   "metadata": {
    "id": "dBmd8kyLfMIg"
   },
   "source": [
    "## Paired Switching\n",
    "\n",
    "The idea behind this strategy is that if the assets are negatively correlated, then a traditional mixed portfolio might lead to a lower return than the return for the individual assets.\n",
    "\n",
    "We periodically compute the Co-relation Coefficients' Matrix and choose pair of stocks which have the most negative co-relations and trade in them. The basic idea being that if one of them would fall, then the other would rise and hence, we must switch between them!\n",
    "\n",
    "We need a re-balancing period ,i.e. The time after which we would be again calculating the co-relations and taking a different pair of stocks : **T**\n",
    "\n",
    "We would also need to keep switching between these selected stocks in a pair at a certain interval of time : **P**\n",
    "\n",
    "Next, We need to specify how many such pairs would we be trading in : **M**\n",
    "\n",
    "The Fraction of the total balance we would be investing on every turn : **R**\n",
    "\n",
    "The Brokerage Fee as a fraction of the total transaction amount : **F**\n",
    "\n"
   ]
  },
  {
   "cell_type": "code",
   "execution_count": 1,
   "metadata": {
    "id": "KhmpNcaUextd"
   },
   "outputs": [],
   "source": [
    "import numpy as np\n",
    "import pandas as pd\n",
    "import datetime\n",
    "import matplotlib.pyplot as plt\n",
    "import seaborn as sns\n",
    "\n",
    "T = 60\n",
    "P = 7\n",
    "M = 8\n",
    "R = 0.8\n",
    "F = 0.0005\n",
    "\n",
    "N = 15\n",
    "NT = 30 # TOTAL NO OF TICs"
   ]
  },
  {
   "cell_type": "markdown",
   "metadata": {
    "id": "6zepnFA0xjvI"
   },
   "source": [
    "### Few Upcoming Functions(GetData and PartitionData) would be similar to the ones you encountered in the Momentum Assignment (Feel free to Copy-Paste your code from there!)"
   ]
  },
  {
   "cell_type": "markdown",
   "metadata": {
    "id": "YZQH1NuRyGLy"
   },
   "source": [
    "In the file DATA.csv , which we had uploaded in our repository, we have prices of 30 firms enlisted in S & P 500 Index (Apple, IBM, Cisco, Walmart and the like!) from 2nd January 2009 to 17th August 2020.\n",
    "\n",
    "For our purposes, We'll only be requiring certain columns. On an honest note, Just getting the Columns on Ticker, Date and Adjusted Closing Price would do the job, but if you want, you may take Opening Price as well.\n",
    "\n",
    "Read up about the [pandas.read_csv](https://pandas.pydata.org/docs/reference/api/pandas.read_csv.html) function from here, and figure out how you'll use it to do the job (You don't need all the columns!) "
   ]
  },
  {
   "cell_type": "code",
   "execution_count": 2,
   "metadata": {
    "id": "Ka_L9Ne6yOGY"
   },
   "outputs": [],
   "source": [
    "def GetData(NameOfFile):\n",
    "    #START CODE HERE\n",
    "    df = pd.read_csv(NameOfFile)\n",
    "    df = df[[\"tic\",\"datadate\",\"adjcp\",\"open\"]]\n",
    "    return df  # pd.DataFrame Object"
   ]
  },
  {
   "cell_type": "markdown",
   "metadata": {
    "id": "xJILaZUYySQW"
   },
   "source": [
    "To aid Data-Manipulation, it would be beneficial, if we split the DataFrame into many small parts each corresponding to the data corresponding to the 30 Tickers on a particular date. These small parts could then be stored in a list.\n",
    "\n",
    "We would also be needing to remember which date is at what index, so that we can use that later. "
   ]
  },
  {
   "cell_type": "code",
   "execution_count": 3,
   "metadata": {
    "id": "I0jUbPe_yiGU"
   },
   "outputs": [],
   "source": [
    "def PartitionData(Data):\n",
    "    DateToIndex = {}\n",
    "    df_grp = list(Data.groupby(Data['datadate']) )\n",
    "    df_split = []\n",
    "    date_dict = {}\n",
    "    \n",
    "    for i,grp in enumerate(df_grp):\n",
    "        df_split.append(grp[1].reset_index())\n",
    "        date_dict[str(grp[0])] = i\n",
    "    return df_split, date_dict    \n",
    "    # List containing of the Data Partitioned according to Date,\n",
    "    # and the Dictionary mapping Dates to their index in the list "
   ]
  },
  {
   "cell_type": "code",
   "execution_count": 4,
   "metadata": {},
   "outputs": [],
   "source": [
    "def strToDate(date):\n",
    "        return datetime.date(int(date[0:4]),int(date[4:6]),int(date[6:]))"
   ]
  },
  {
   "cell_type": "markdown",
   "metadata": {
    "id": "abBu6bdrqpcD"
   },
   "source": [
    "Now, We need a function which takes as input a pair of stocks (as indices in range 0-29), Today's date,  alongwith the Partitioned DataFrames which will tell us which of the two stocks has a better outlook for the future, and we'll simply move all our Money from one of them to the other. \n",
    "\n",
    "This will be done once in every **P** trading sessions.\n",
    "\n",
    "You could choose between the two stocks in a number of ways, the simplest of which can be what you did in the last assignment, the Momentum Indicator (i.e. Take the difference between the prices of the stocks in a certain number of days and do your deed! Remember this number of days **N** must be <= **T**)\n",
    "\n",
    "You may also use other indicators like [RSI](https://www.investopedia.com/terms/r/rsi.asp), [Stochs](https://www.investopedia.com/terms/s/stochasticoscillator.asp), [MACD](https://www.investopedia.com/terms/m/macd.asp) or anything else! (If you decide to use MACD or RSI, you could either implement other functions to calculate them or simply change your ParitionData() function to get the MACD and RSI values as they are already stored there for you!)\n",
    "\n",
    "You need not worry about getting the nearest dates (or dates at all) in this case, because all you care about is co-relations in long term and growth in short-term so it doesn't matter if you're ahead or behind a few days!\n",
    "\n",
    "'today' would be an index(integer), i.e. an index on the PartitionedDataFrames list denoting where we are at currently!\n",
    "\n",
    "Also, as you may have figured it out yourself, while DataFrames are great for Data Handling and small statistical calculations, They aren't so for big calculations as the Numpy Library has both a richer variety of functions for such manipulations and is also more efficient!\n"
   ]
  },
  {
   "cell_type": "code",
   "execution_count": 5,
   "metadata": {},
   "outputs": [],
   "source": [
    "def GetMomentumBasedPriority(PartitionedDataFrameList, today):\n",
    "    # PartitionedDataFrameList : Pandas DataFrame, The Output of your last function\n",
    "\n",
    "    bi = today - N\n",
    "    ti = today\n",
    "    mean_adjcp =  PartitionedDataFrameList[bi]['adjcp']\n",
    "    for i in range(bi+1,ti):\n",
    "        mean_adjcp += PartitionedDataFrameList[i]['adjcp']\n",
    "        \n",
    "    mean_adjcp /= (ti - bi)\n",
    "    \n",
    "    momentum = PartitionedDataFrameList[ti]['adjcp'] - PartitionedDataFrameList[bi]['adjcp']\n",
    "    momentum /= mean_adjcp\n",
    "\n",
    "    return momentum.to_numpy()   "
   ]
  },
  {
   "cell_type": "code",
   "execution_count": 6,
   "metadata": {
    "id": "hUViRxVXwrB5"
   },
   "outputs": [],
   "source": [
    "def Switch(firstStock, secondStock, today ,PartitionedDataFrames):\n",
    "\n",
    "    priorities = GetMomentumBasedPriority(PartitionedDataFrames,today)\n",
    "    pref = firstStock\n",
    "    if(priorities[secondStock] > priorities[firstStock]):\n",
    "        pref = secondStock\n",
    "\n",
    "    return pref      #One of two(firstStock/SecondStock) depending on which should grow more in the future."
   ]
  },
  {
   "cell_type": "markdown",
   "metadata": {
    "id": "CBZqJ_CszZbL"
   },
   "source": [
    "Now, We need something to simulate our [Portfolio](https://www.investopedia.com/terms/p/portfolio.asp). In order to do that we need a class, which has certain  basic features and functionalities.\n",
    "\n",
    "(Again some of the functions here, would be same as the previous assignment, so feel free to Copy-Paste)\n",
    "\n",
    "Features : \n",
    "\n",
    "\n",
    "1.   Your Initial Balance\n",
    "2.   Your Current Balance (Money which isn't invested!)\n",
    "3.   A list(/any other container) storing the number of stocks of each ticker currently in possession. (Numpy Array prefered)\n",
    "4.   Most recent prices of all the stocks (As a Numpy array)\n",
    "5.   A list of **M** or less(as it might be that less than **M** stocks are negatively co-related) Tuples of indices (i,j) where i and j are the indices (from 0-29) of stocks which are negatively co-related.\n",
    "\n",
    "Functionalities: \n",
    "\n",
    "\n",
    "\n",
    "1.   Calculating current Net Worth (Balance+Total Evaluation of all Stocks owned!) \n",
    "2.   Buying a Particular Stock (Keep the Transaction fee in mind!)\n",
    "3.   Selling a particular Stock whole (Keep the Transaction Fee in mind!)\n",
    "4.   Change Pairs (**T** period intervals) (Takes PartitionedDataFrame, DateT and today's date as input)\n",
    "5.   Rebalance Portfolio (**P** period intervals) (Takes O)\n",
    "6.   Function to change the value of most recent prices stored (Takes Numpy array as input)\n",
    "\n",
    "\n",
    "You may want to know about Numpy's Corrcoef ([np.corrcoef](https://numpy.org/doc/stable/reference/generated/numpy.corrcoef.html)) function!\n"
   ]
  },
  {
   "cell_type": "code",
   "execution_count": 7,
   "metadata": {
    "id": "SFJOHvgS1aq0"
   },
   "outputs": [],
   "source": [
    "class PortFolio:\n",
    "    def __init__(self,init_bal,stock_inv,stock_price):\n",
    "        self.init_bal = init_bal\n",
    "        \n",
    "        self.stock_inv = np.float32(stock_inv)\n",
    "        self.stock_price = stock_price\n",
    "        \n",
    "        self.cr_bal = self.init_bal\n",
    "        self.neg_rel = []\n",
    "    def SellStock(self,index):\n",
    "        #index : The index of the Stock to sell (0-29)\n",
    "        delta =  self.stock_inv[index] * self.stock_price[index]\n",
    "        delta -= delta * F\n",
    "        self.stock_inv[index] = 0;\n",
    "        self.cr_bal += delta\n",
    "  \n",
    "    def BuyStock(self,index, number):\n",
    "        #index : The index of the Stock to buy (0-29) \n",
    "        #number : Number of shares to buy (float)\n",
    "        delta = number *  self.stock_price[index]\n",
    "        delta += delta * F\n",
    "        \n",
    "        self.cr_bal -= delta\n",
    "        assert self.cr_bal >= 0\n",
    "        self.stock_inv[index] += number\n",
    "\n",
    "    def CalculateNetWorth(self):\n",
    "        #Return Net Worth (All Shares' costs+ Balance)\n",
    "        return self.cr_bal + (self.stock_inv * self.stock_price).sum()\n",
    "\n",
    "    def ChangePricesTo(self,newPriceVector):\n",
    "        # newPriceVector : Numpy array containing the prices of all the stocks for the current day\n",
    "        self.stock_price = newPriceVector\n",
    "\n",
    "    def ChangePairs(self,today,PartitionedDataFrames,):  \n",
    "        # Calls the Switch function for all the pairs of stocks owned\n",
    "        \n",
    "        for pair in self.neg_rel:\n",
    "            a = pair[0]\n",
    "            b = pair[1]\n",
    "            if self.stock_inv[a] > 0 or self.stock_inv[b] > 0:\n",
    "                c = Switch(a, b, today ,PartitionedDataFrames)\n",
    "                if(c == a):\n",
    "                    delta = self.stock_inv[b] * self.stock_price[b]\n",
    "                    delta /= (1.0+F)\n",
    "                    self.stock_inv[a] += delta / self.stock_price[a]\n",
    "                    self.stock_inv[b] = 0\n",
    "                else:\n",
    "                    delta = self.stock_inv[a] * self.stock_price[a]\n",
    "                    delta /= (1.0+F)\n",
    "                    self.stock_inv[b] += delta / self.stock_price[b]\n",
    "                    self.stock_inv[a] = 0\n",
    "                    \n",
    "    def RebalancePortfolio(self,today,PartitionedDataFrames):\n",
    "        # Calculates the Co-relation Matrix and changes the list of pairs, which you'll be using to trade\n",
    "        # You'll have to take care of cases, where a single stock would be involved in two or more of the most negatively co-related Stocks\n",
    "        # It would be a good idea, to call BuyStock and SellStock from here itself, instead of calling ChangePairs later as it will cause havoc that way\n",
    "        for i in range(NT):\n",
    "            self.SellStock(i)\n",
    "        \n",
    "        \n",
    "        vft = PartitionedDataFrames[today:today+T]\n",
    "        delta_l = [[0 for i in range(T)] for j in range(NT)]\n",
    "        price_l = [[0 for i in range(T)] for j in range(NT)]\n",
    "        for i,df in enumerate(vft):\n",
    "            lt = df['adjcp'].to_numpy()\n",
    "            for j,t in enumerate(lt):\n",
    "\n",
    "                price_l[j][i]= t \n",
    "                delta_l[j][i]= t\n",
    "                delta_l[j][i] -= price_l[j][i-1 if i > 0 else 0]\n",
    "                delta_l[j][i] /= price_l[j][i-i]\n",
    "\n",
    "        covr = np.corrcoef(delta_l)\n",
    "        \n",
    "        t_list = []\n",
    "        for i in range(NT):\n",
    "            for j in range(i+1,NT):\n",
    "                if(covr[i][j] < 0):\n",
    "                    t_list.append((i,j))\n",
    "        \n",
    "        t_list.sort(key=lambda x: covr[x[0]][x[1]])\n",
    "\n",
    "        dp = [False] * 30\n",
    "        f_list = []\n",
    "        for j in t_list:\n",
    "            if not dp[j[0]] and not dp[j[1]]:\n",
    "                f_list.append(j)\n",
    "                dp[j[0]] = True\n",
    "                dp[j[1]] = True\n",
    "\n",
    "\n",
    "        \n",
    "        self.neg_rel = f_list[:M]\n",
    "\n",
    "        tender = np.zeros(NT)\n",
    "\n",
    "        # Buying only tha best from pair\n",
    "        for j in self.neg_rel:\n",
    "            if(j[0] == Switch(j[0], j[1], today ,PartitionedDataFrames)):\n",
    "                tender[j[0]] = 1\n",
    "            else:\n",
    "                tender[j[1]] = 1\n",
    "        if(tender > 0).any():\n",
    "            tender = tender * ( (self.cr_bal * R) / (tender * self.stock_price).sum()) # 1+F accounts for the F transcational charges\n",
    "\n",
    "            for i in range(NT):\n",
    "                self.BuyStock(i,tender[i])\n",
    "            "
   ]
  },
  {
   "cell_type": "markdown",
   "metadata": {
    "id": "S2Sv0OPB6QiL"
   },
   "source": [
    "With that the difficult part is over!\n",
    "\n",
    "Now, all you need to work on is a main loop, which calls all these functions"
   ]
  },
  {
   "cell_type": "code",
   "execution_count": 8,
   "metadata": {
    "id": "8qTWYyDn6mjt"
   },
   "outputs": [],
   "source": [
    "myPortfolio = PortFolio(1000000,np.zeros(NT),np.zeros(NT)) # NT no. of tics\n",
    "NetWorthAfterEachTrade = [myPortfolio.cr_bal]\n",
    "\n",
    "\n",
    "#First Get the Data\n",
    "Data = GetData('DATA.csv')\n",
    "\n",
    "PartitionedData, DateToIndex= PartitionData(Data)\n",
    "dlist = list(DateToIndex)\n",
    "dlist = [strToDate(d) for d in list(dlist[T:])]\n",
    "#\n",
    "\n",
    "ti = T\n",
    "myPortfolio.ChangePricesTo(PartitionedData[T]['open'].to_numpy())\n",
    "myPortfolio.RebalancePortfolio(T,PartitionedData)\n",
    "#Start processing from the (T+1)th Day(among the ones recorded in the Data)\n",
    "for i in range(T+1,len(DateToIndex)):\n",
    "    # Change the Prices to the ith Term\n",
    "    # Get NetWorth and store in list\n",
    "    # Check if you need to rebalance Portfolio's Today\n",
    "    # Check if you need to switch stocks today\n",
    "    myPortfolio.ChangePricesTo(PartitionedData[i]['open'].to_numpy())\n",
    "    NetWorthAfterEachTrade.append(myPortfolio.CalculateNetWorth())\n",
    "    if(ti % T == T-1):\n",
    "        myPortfolio.RebalancePortfolio(i,PartitionedData)\n",
    "\n",
    "    if(ti % P == P-1):\n",
    "        myPortfolio.ChangePairs(i,PartitionedData)\n",
    "        \n",
    "    ti += 1"
   ]
  },
  {
   "cell_type": "markdown",
   "metadata": {
    "id": "kwewPN3O6yIF"
   },
   "source": [
    "You may need to declare the PartitionedData list global, depending on your implementation of the Above snippet as well as the various functions in the Portfolio class."
   ]
  },
  {
   "cell_type": "markdown",
   "metadata": {
    "id": "7JBJY3YU7M2C"
   },
   "source": [
    "## Moment of Truth\n",
    "\n",
    "Time to check, if your Program actually works!\n",
    "\n",
    "Plot the data you collected in various ways (Profits, PercentageProfits etc.) and see if what you did worked!\n",
    "\n",
    "Feel free to use whichever one of Matplotlib or Seaborn you want to.\n",
    "\n",
    "Feel free to copy-paste your code from the previous assignment!"
   ]
  },
  {
   "cell_type": "code",
   "execution_count": 9,
   "metadata": {
    "id": "lPQny8RK7tmN"
   },
   "outputs": [],
   "source": [
    "def VizualizeData(NetWorthAfterEachTrade):\n",
    "    plt.plot(dlist,NetWorthAfterEachTrade)\n",
    "    plt.show()"
   ]
  },
  {
   "cell_type": "markdown",
   "metadata": {
    "id": "lsAUyiuk9r6v"
   },
   "source": [
    "You may use this cell to write about your results/performance of the model!"
   ]
  },
  {
   "cell_type": "code",
   "execution_count": 10,
   "metadata": {},
   "outputs": [
    {
     "data": {
      "image/png": "[encoded data removed]",
      "text/plain": [
       "<Figure size 432x288 with 1 Axes>"
      ]
     },
     "metadata": {
      "needs_background": "light"
     },
     "output_type": "display_data"
    }
   ],
   "source": [
    "VizualizeData(NetWorthAfterEachTrade)"
   ]
  }
 ],
 "metadata": {
  "colab": {
   "collapsed_sections": [],
   "name": "Pairs.ipynb",
   "provenance": []
  },
  "kernelspec": {
   "display_name": "Python 3 (ipykernel)",
   "language": "python",
   "name": "python3"
  },
  "language_info": {
   "codemirror_mode": {
    "name": "ipython",
    "version": 3
   },
   "file_extension": ".py",
   "mimetype": "text/x-python",
   "name": "python",
   "nbconvert_exporter": "python",
   "pygments_lexer": "ipython3",
   "version": "3.9.6"
  }
 },
 "nbformat": 4,
 "nbformat_minor": 1
}
